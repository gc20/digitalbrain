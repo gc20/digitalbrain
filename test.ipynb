{
 "cells": [
  {
   "cell_type": "code",
   "execution_count": 1,
   "metadata": {},
   "outputs": [],
   "source": [
    "import pickledb\n",
    "from markdownify import markdownify"
   ]
  },
  {
   "cell_type": "code",
   "execution_count": 2,
   "metadata": {},
   "outputs": [
    {
     "data": {
      "text/plain": [
       "True"
      ]
     },
     "execution_count": 2,
     "metadata": {},
     "output_type": "execute_result"
    }
   ],
   "source": [
    "db = pickledb.load('log.db', False)\n",
    "db.set('key', 'value')\n",
    "db.get('key')\n",
    "db.dump()"
   ]
  },
  {
   "cell_type": "code",
   "execution_count": 8,
   "metadata": {},
   "outputs": [],
   "source": [
    "import requests\n",
    "url = \"https://www.bbc.com/news/world-us-canada-59714272\"\n",
    "response = requests.get(url)\n"
   ]
  },
  {
   "cell_type": "code",
   "execution_count": 9,
   "metadata": {},
   "outputs": [],
   "source": [
    "with open(\"r_test.html\", \"wb\") as f:\n",
    "    f.write(response.content)"
   ]
  },
  {
   "cell_type": "code",
   "execution_count": 11,
   "metadata": {},
   "outputs": [
    {
     "name": "stdout",
     "output_type": "stream",
     "text": [
      "Collecting plyvel\n",
      "  Downloading plyvel-1.3.0.tar.gz (149 kB)\n",
      "\u001b[K     |████████████████████████████████| 149 kB 3.5 MB/s eta 0:00:01\n",
      "\u001b[?25hBuilding wheels for collected packages: plyvel\n",
      "  Building wheel for plyvel (setup.py) ... \u001b[?25lerror\n",
      "\u001b[31m  ERROR: Command errored out with exit status 1:\n",
      "   command: /Users/Govind/opt/anaconda3/envs/env-01/bin/python -u -c 'import io, os, sys, setuptools, tokenize; sys.argv[0] = '\"'\"'/private/var/folders/gn/zt1sz1k90qv48n2gj8gbt02c0000gn/T/pip-install-ekg1bugb/plyvel_aeed7598831a49e8a736f23366f0ba83/setup.py'\"'\"'; __file__='\"'\"'/private/var/folders/gn/zt1sz1k90qv48n2gj8gbt02c0000gn/T/pip-install-ekg1bugb/plyvel_aeed7598831a49e8a736f23366f0ba83/setup.py'\"'\"';f = getattr(tokenize, '\"'\"'open'\"'\"', open)(__file__) if os.path.exists(__file__) else io.StringIO('\"'\"'from setuptools import setup; setup()'\"'\"');code = f.read().replace('\"'\"'\\r\\n'\"'\"', '\"'\"'\\n'\"'\"');f.close();exec(compile(code, __file__, '\"'\"'exec'\"'\"'))' bdist_wheel -d /private/var/folders/gn/zt1sz1k90qv48n2gj8gbt02c0000gn/T/pip-wheel-fd7l4gc9\n",
      "       cwd: /private/var/folders/gn/zt1sz1k90qv48n2gj8gbt02c0000gn/T/pip-install-ekg1bugb/plyvel_aeed7598831a49e8a736f23366f0ba83/\n",
      "  Complete output (18 lines):\n",
      "  running bdist_wheel\n",
      "  running build\n",
      "  running build_py\n",
      "  creating build\n",
      "  creating build/lib.macosx-10.9-x86_64-3.7\n",
      "  creating build/lib.macosx-10.9-x86_64-3.7/plyvel\n",
      "  copying plyvel/_version.py -> build/lib.macosx-10.9-x86_64-3.7/plyvel\n",
      "  copying plyvel/__init__.py -> build/lib.macosx-10.9-x86_64-3.7/plyvel\n",
      "  running build_ext\n",
      "  building 'plyvel._plyvel' extension\n",
      "  creating build/temp.macosx-10.9-x86_64-3.7\n",
      "  creating build/temp.macosx-10.9-x86_64-3.7/plyvel\n",
      "  gcc -Wno-unused-result -Wsign-compare -Wunreachable-code -DNDEBUG -g -fwrapv -O3 -Wall -Wstrict-prototypes -I/Users/Govind/opt/anaconda3/envs/env-01/include -arch x86_64 -I/Users/Govind/opt/anaconda3/envs/env-01/include -arch x86_64 -I/Users/Govind/opt/anaconda3/envs/env-01/include/python3.7m -c plyvel/_plyvel.cpp -o build/temp.macosx-10.9-x86_64-3.7/plyvel/_plyvel.o -Wall -g -x c++ -std=c++11 -stdlib=libc++\n",
      "  plyvel/_plyvel.cpp:632:10: fatal error: 'leveldb/db.h' file not found\n",
      "  #include \"leveldb/db.h\"\n",
      "           ^~~~~~~~~~~~~~\n",
      "  1 error generated.\n",
      "  error: command 'gcc' failed with exit status 1\n",
      "  ----------------------------------------\u001b[0m\n",
      "\u001b[31m  ERROR: Failed building wheel for plyvel\u001b[0m\n",
      "\u001b[?25h  Running setup.py clean for plyvel\n",
      "Failed to build plyvel\n",
      "Installing collected packages: plyvel\n",
      "    Running setup.py install for plyvel ... \u001b[?25lerror\n",
      "\u001b[31m    ERROR: Command errored out with exit status 1:\n",
      "     command: /Users/Govind/opt/anaconda3/envs/env-01/bin/python -u -c 'import io, os, sys, setuptools, tokenize; sys.argv[0] = '\"'\"'/private/var/folders/gn/zt1sz1k90qv48n2gj8gbt02c0000gn/T/pip-install-ekg1bugb/plyvel_aeed7598831a49e8a736f23366f0ba83/setup.py'\"'\"'; __file__='\"'\"'/private/var/folders/gn/zt1sz1k90qv48n2gj8gbt02c0000gn/T/pip-install-ekg1bugb/plyvel_aeed7598831a49e8a736f23366f0ba83/setup.py'\"'\"';f = getattr(tokenize, '\"'\"'open'\"'\"', open)(__file__) if os.path.exists(__file__) else io.StringIO('\"'\"'from setuptools import setup; setup()'\"'\"');code = f.read().replace('\"'\"'\\r\\n'\"'\"', '\"'\"'\\n'\"'\"');f.close();exec(compile(code, __file__, '\"'\"'exec'\"'\"'))' install --record /private/var/folders/gn/zt1sz1k90qv48n2gj8gbt02c0000gn/T/pip-record-tysn5fix/install-record.txt --single-version-externally-managed --compile --install-headers /Users/Govind/opt/anaconda3/envs/env-01/include/python3.7m/plyvel\n",
      "         cwd: /private/var/folders/gn/zt1sz1k90qv48n2gj8gbt02c0000gn/T/pip-install-ekg1bugb/plyvel_aeed7598831a49e8a736f23366f0ba83/\n",
      "    Complete output (18 lines):\n",
      "    running install\n",
      "    running build\n",
      "    running build_py\n",
      "    creating build\n",
      "    creating build/lib.macosx-10.9-x86_64-3.7\n",
      "    creating build/lib.macosx-10.9-x86_64-3.7/plyvel\n",
      "    copying plyvel/_version.py -> build/lib.macosx-10.9-x86_64-3.7/plyvel\n",
      "    copying plyvel/__init__.py -> build/lib.macosx-10.9-x86_64-3.7/plyvel\n",
      "    running build_ext\n",
      "    building 'plyvel._plyvel' extension\n",
      "    creating build/temp.macosx-10.9-x86_64-3.7\n",
      "    creating build/temp.macosx-10.9-x86_64-3.7/plyvel\n",
      "    gcc -Wno-unused-result -Wsign-compare -Wunreachable-code -DNDEBUG -g -fwrapv -O3 -Wall -Wstrict-prototypes -I/Users/Govind/opt/anaconda3/envs/env-01/include -arch x86_64 -I/Users/Govind/opt/anaconda3/envs/env-01/include -arch x86_64 -I/Users/Govind/opt/anaconda3/envs/env-01/include/python3.7m -c plyvel/_plyvel.cpp -o build/temp.macosx-10.9-x86_64-3.7/plyvel/_plyvel.o -Wall -g -x c++ -std=c++11 -stdlib=libc++\n",
      "    plyvel/_plyvel.cpp:632:10: fatal error: 'leveldb/db.h' file not found\n",
      "    #include \"leveldb/db.h\"\n",
      "             ^~~~~~~~~~~~~~\n",
      "    1 error generated.\n",
      "    error: command 'gcc' failed with exit status 1\n",
      "    ----------------------------------------\u001b[0m\n",
      "\u001b[?25h\u001b[31mERROR: Command errored out with exit status 1: /Users/Govind/opt/anaconda3/envs/env-01/bin/python -u -c 'import io, os, sys, setuptools, tokenize; sys.argv[0] = '\"'\"'/private/var/folders/gn/zt1sz1k90qv48n2gj8gbt02c0000gn/T/pip-install-ekg1bugb/plyvel_aeed7598831a49e8a736f23366f0ba83/setup.py'\"'\"'; __file__='\"'\"'/private/var/folders/gn/zt1sz1k90qv48n2gj8gbt02c0000gn/T/pip-install-ekg1bugb/plyvel_aeed7598831a49e8a736f23366f0ba83/setup.py'\"'\"';f = getattr(tokenize, '\"'\"'open'\"'\"', open)(__file__) if os.path.exists(__file__) else io.StringIO('\"'\"'from setuptools import setup; setup()'\"'\"');code = f.read().replace('\"'\"'\\r\\n'\"'\"', '\"'\"'\\n'\"'\"');f.close();exec(compile(code, __file__, '\"'\"'exec'\"'\"'))' install --record /private/var/folders/gn/zt1sz1k90qv48n2gj8gbt02c0000gn/T/pip-record-tysn5fix/install-record.txt --single-version-externally-managed --compile --install-headers /Users/Govind/opt/anaconda3/envs/env-01/include/python3.7m/plyvel Check the logs for full command output.\u001b[0m\n",
      "Note: you may need to restart the kernel to use updated packages.\n"
     ]
    }
   ],
   "source": [
    "%pip install plyvel"
   ]
  },
  {
   "cell_type": "code",
   "execution_count": 71,
   "metadata": {},
   "outputs": [],
   "source": [
    "r = None\n",
    "with open(\"r_test.html\", \"rb\") as f:\n",
    "    r = f.read()"
   ]
  },
  {
   "cell_type": "code",
   "execution_count": 56,
   "metadata": {},
   "outputs": [],
   "source": [
    "import newspaper\n",
    "url = \"https://www.bbc.com/news/world-us-canada-59714272\"\n",
    "article = newspaper.Article(url)"
   ]
  },
  {
   "cell_type": "code",
   "execution_count": 57,
   "metadata": {},
   "outputs": [],
   "source": [
    "article.download()"
   ]
  },
  {
   "cell_type": "code",
   "execution_count": 58,
   "metadata": {},
   "outputs": [],
   "source": [
    "article.parse()"
   ]
  },
  {
   "cell_type": "code",
   "execution_count": 61,
   "metadata": {},
   "outputs": [
    {
     "data": {
      "text/plain": [
       "'\"The difference between a vaccinated and boosted person who has an infection, and someone who has an infection who has never been vaccinated - it\\'s a major difference with regard to the risk of severity,\" he said.'"
      ]
     },
     "execution_count": 61,
     "metadata": {},
     "output_type": "execute_result"
    }
   ],
   "source": [
    "article.text"
   ]
  },
  {
   "cell_type": "code",
   "execution_count": 62,
   "metadata": {},
   "outputs": [],
   "source": [
    "article.nlp()"
   ]
  },
  {
   "cell_type": "code",
   "execution_count": 64,
   "metadata": {},
   "outputs": [
    {
     "data": {
      "text/plain": [
       "['warns',\n",
       " 'difference',\n",
       " 'severity',\n",
       " 'vaccinated',\n",
       " 'regard',\n",
       " 'person',\n",
       " 'major',\n",
       " 'expert',\n",
       " 'infection',\n",
       " 'omicron',\n",
       " 'fuel',\n",
       " 'spread',\n",
       " 'boosted',\n",
       " 'christmas',\n",
       " 'risk',\n",
       " 'covid',\n",
       " 'travel']"
      ]
     },
     "execution_count": 64,
     "metadata": {},
     "output_type": "execute_result"
    }
   ],
   "source": [
    "article.keywords"
   ]
  },
  {
   "cell_type": "code",
   "execution_count": 73,
   "metadata": {},
   "outputs": [],
   "source": [
    "a2 = newspaper.Article('')\n",
    "a2.set_html(r)"
   ]
  },
  {
   "cell_type": "code",
   "execution_count": 74,
   "metadata": {},
   "outputs": [],
   "source": [
    "a2.parse()"
   ]
  },
  {
   "cell_type": "code",
   "execution_count": 75,
   "metadata": {},
   "outputs": [
    {
     "data": {
      "text/plain": [
       "'\"The difference between a vaccinated and boosted person who has an infection, and someone who has an infection who has never been vaccinated - it\\'s a major difference with regard to the risk of severity,\" he said.'"
      ]
     },
     "execution_count": 75,
     "metadata": {},
     "output_type": "execute_result"
    }
   ],
   "source": [
    "a2.text"
   ]
  },
  {
   "cell_type": "code",
   "execution_count": 48,
   "metadata": {},
   "outputs": [
    {
     "name": "stderr",
     "output_type": "stream",
     "text": [
      "[nltk_data] Downloading package punkt to /Users/Govind/nltk_data...\n",
      "[nltk_data]   Unzipping tokenizers/punkt.zip.\n"
     ]
    },
    {
     "data": {
      "text/plain": [
       "True"
      ]
     },
     "execution_count": 48,
     "metadata": {},
     "output_type": "execute_result"
    }
   ],
   "source": [
    "import nltk\n",
    "nltk.download('punkt')"
   ]
  },
  {
   "cell_type": "code",
   "execution_count": 31,
   "metadata": {},
   "outputs": [],
   "source": [
    "url2 = 'https://edition.cnn.com/2021/12/19/politics/joe-manchin-build-back-better/index.html'\n",
    "article2 = newspaper.Article(url2)\n",
    "article2.download()"
   ]
  },
  {
   "cell_type": "code",
   "execution_count": 32,
   "metadata": {},
   "outputs": [
    {
     "data": {
      "text/plain": [
       "''"
      ]
     },
     "execution_count": 32,
     "metadata": {},
     "output_type": "execute_result"
    }
   ],
   "source": [
    "article2.text"
   ]
  },
  {
   "cell_type": "code",
   "execution_count": 84,
   "metadata": {},
   "outputs": [],
   "source": [
    "from newspaper import Article\n",
    "\n",
    "url = 'http://fox13now.com/2013/12/30/new-year-new-laws-obamacare-pot-guns-and-drones/'\n",
    "article = Article(url)\n",
    "article.download()"
   ]
  },
  {
   "cell_type": "code",
   "execution_count": 85,
   "metadata": {},
   "outputs": [],
   "source": [
    "article.parse()"
   ]
  },
  {
   "cell_type": "code",
   "execution_count": 36,
   "metadata": {},
   "outputs": [
    {
     "data": {
      "text/plain": [
       "[]"
      ]
     },
     "execution_count": 36,
     "metadata": {},
     "output_type": "execute_result"
    }
   ],
   "source": [
    "article.authors"
   ]
  },
  {
   "cell_type": "code",
   "execution_count": 38,
   "metadata": {},
   "outputs": [],
   "source": [
    "a2.parse()"
   ]
  },
  {
   "cell_type": "code",
   "execution_count": 39,
   "metadata": {},
   "outputs": [
    {
     "data": {
      "text/plain": [
       "'\"The difference between a vaccinated and boosted person who has an infection, and someone who has an infection who has never been vaccinated - it\\'s a major difference with regard to the risk of severity,\" he said.'"
      ]
     },
     "execution_count": 39,
     "metadata": {},
     "output_type": "execute_result"
    }
   ],
   "source": [
    "a2.text"
   ]
  },
  {
   "cell_type": "code",
   "execution_count": 81,
   "metadata": {},
   "outputs": [],
   "source": [
    "import markdownify\n",
    "md = markdownify.markdownify(r)"
   ]
  },
  {
   "cell_type": "code",
   "execution_count": 88,
   "metadata": {},
   "outputs": [],
   "source": [
    "with open(\"../data_test/r_test.md\", \"w\") as f:\n",
    "    f.write(article.text)"
   ]
  },
  {
   "cell_type": "code",
   "execution_count": 1,
   "metadata": {},
   "outputs": [],
   "source": [
    "from bs4 import BeautifulSoup\n",
    "filepath = '../input/bookmarks_20_12_2021.html'\n",
    "from bs4 import BeautifulSoup\n",
    "f = open(filepath, encoding=\"utf8\")     \n",
    "soup = BeautifulSoup(f)\n",
    "f.close()"
   ]
  },
  {
   "cell_type": "code",
   "execution_count": 13,
   "metadata": {},
   "outputs": [],
   "source": [
    "for r1 in soup.find_all(\"DL\"):\n",
    "    k = r1.findall('DT')\n",
    "    print(\"1\")\n",
    "    print(k.string)\n"
   ]
  },
  {
   "cell_type": "code",
   "execution_count": 16,
   "metadata": {},
   "outputs": [
    {
     "ename": "ModuleNotFoundError",
     "evalue": "No module named 'utils'",
     "output_type": "error",
     "traceback": [
      "\u001b[0;31m---------------------------------------------------------------------------\u001b[0m",
      "\u001b[0;31mModuleNotFoundError\u001b[0m                       Traceback (most recent call last)",
      "\u001b[0;32m/var/folders/gn/zt1sz1k90qv48n2gj8gbt02c0000gn/T/ipykernel_6785/3027401003.py\u001b[0m in \u001b[0;36m<module>\u001b[0;34m\u001b[0m\n\u001b[0;32m----> 1\u001b[0;31m \u001b[0;32mimport\u001b[0m \u001b[0mxmltojson\u001b[0m\u001b[0;34m\u001b[0m\u001b[0;34m\u001b[0m\u001b[0m\n\u001b[0m\u001b[1;32m      2\u001b[0m \u001b[0mj\u001b[0m \u001b[0;34m=\u001b[0m \u001b[0mxmltojson\u001b[0m\u001b[0;34m.\u001b[0m\u001b[0mparse\u001b[0m\u001b[0;34m(\u001b[0m\u001b[0msoup\u001b[0m\u001b[0;34m.\u001b[0m\u001b[0mhtml\u001b[0m\u001b[0;34m)\u001b[0m\u001b[0;34m\u001b[0m\u001b[0;34m\u001b[0m\u001b[0m\n",
      "\u001b[0;32m~/opt/anaconda3/envs/env-01/lib/python3.7/site-packages/xmltojson.py\u001b[0m in \u001b[0;36m<module>\u001b[0;34m\u001b[0m\n\u001b[1;32m     21\u001b[0m \u001b[0;32mimport\u001b[0m \u001b[0mxmltodict\u001b[0m\u001b[0;34m\u001b[0m\u001b[0;34m\u001b[0m\u001b[0m\n\u001b[1;32m     22\u001b[0m \u001b[0;34m\u001b[0m\u001b[0m\n\u001b[0;32m---> 23\u001b[0;31m \u001b[0;32mimport\u001b[0m \u001b[0mutils\u001b[0m\u001b[0;34m\u001b[0m\u001b[0;34m\u001b[0m\u001b[0m\n\u001b[0m\u001b[1;32m     24\u001b[0m \u001b[0;34m\u001b[0m\u001b[0m\n\u001b[1;32m     25\u001b[0m \u001b[0;31m# --- Def\u001b[0m\u001b[0;34m\u001b[0m\u001b[0;34m\u001b[0m\u001b[0;34m\u001b[0m\u001b[0m\n",
      "\u001b[0;31mModuleNotFoundError\u001b[0m: No module named 'utils'"
     ]
    }
   ],
   "source": [
    "import xmltojson\n",
    "j = xmltojson.parse(soup.html)"
   ]
  },
  {
   "cell_type": "code",
   "execution_count": null,
   "metadata": {},
   "outputs": [],
   "source": [
    "import bookmarks_parser\n",
    "bookmarks = bookmarks_parser.parse(filepath)\n",
    "\n",
    "import pprint\n",
    "pprint.pprint(bookmarks)\n"
   ]
  },
  {
   "cell_type": "code",
   "execution_count": 22,
   "metadata": {},
   "outputs": [
    {
     "name": "stdout",
     "output_type": "stream",
     "text": [
      "Requirement already satisfied: html5lib in /Users/Govind/opt/anaconda3/envs/env-01/lib/python3.7/site-packages (1.1)\n",
      "Requirement already satisfied: six>=1.9 in /Users/Govind/opt/anaconda3/envs/env-01/lib/python3.7/site-packages (from html5lib) (1.16.0)\n",
      "Requirement already satisfied: webencodings in /Users/Govind/opt/anaconda3/envs/env-01/lib/python3.7/site-packages (from html5lib) (0.5.1)\n",
      "Note: you may need to restart the kernel to use updated packages.\n"
     ]
    }
   ],
   "source": [
    "%pip install html5lib"
   ]
  },
  {
   "cell_type": "code",
   "execution_count": 3,
   "metadata": {},
   "outputs": [
    {
     "ename": "ModuleNotFoundError",
     "evalue": "No module named 'validators'",
     "output_type": "error",
     "traceback": [
      "\u001b[0;31m---------------------------------------------------------------------------\u001b[0m",
      "\u001b[0;31mModuleNotFoundError\u001b[0m                       Traceback (most recent call last)",
      "\u001b[0;32m/var/folders/gn/zt1sz1k90qv48n2gj8gbt02c0000gn/T/ipykernel_7375/976979652.py\u001b[0m in \u001b[0;36m<module>\u001b[0;34m\u001b[0m\n\u001b[0;32m----> 1\u001b[0;31m \u001b[0;32mimport\u001b[0m \u001b[0mvalidators\u001b[0m\u001b[0;34m\u001b[0m\u001b[0;34m\u001b[0m\u001b[0m\n\u001b[0m",
      "\u001b[0;31mModuleNotFoundError\u001b[0m: No module named 'validators'"
     ]
    }
   ],
   "source": [
    "import validators"
   ]
  },
  {
   "cell_type": "code",
   "execution_count": 4,
   "metadata": {},
   "outputs": [
    {
     "name": "stdout",
     "output_type": "stream",
     "text": [
      "Collecting validators\n",
      "  Downloading validators-0.18.2-py3-none-any.whl (19 kB)\n",
      "Requirement already satisfied: decorator>=3.4.0 in /Users/Govind/opt/anaconda3/envs/env-01/lib/python3.7/site-packages (from validators) (5.1.0)\n",
      "Requirement already satisfied: six>=1.4.0 in /Users/Govind/opt/anaconda3/envs/env-01/lib/python3.7/site-packages (from validators) (1.16.0)\n",
      "Installing collected packages: validators\n",
      "Successfully installed validators-0.18.2\n",
      "Note: you may need to restart the kernel to use updated packages.\n"
     ]
    }
   ],
   "source": [
    "%pip install validators"
   ]
  },
  {
   "cell_type": "code",
   "execution_count": 5,
   "metadata": {},
   "outputs": [
    {
     "data": {
      "text/plain": [
       "True"
      ]
     },
     "execution_count": 5,
     "metadata": {},
     "output_type": "execute_result"
    }
   ],
   "source": [
    "import validators\n",
    "validators.url(\"http://google.com\")"
   ]
  },
  {
   "cell_type": "code",
   "execution_count": 7,
   "metadata": {},
   "outputs": [
    {
     "name": "stdout",
     "output_type": "stream",
     "text": [
      "\n",
      "Note: you may need to restart the kernel to use updated packages.\n"
     ]
    }
   ],
   "source": [
    "%conda env export>environment.yml"
   ]
  },
  {
   "cell_type": "code",
   "execution_count": null,
   "metadata": {},
   "outputs": [],
   "source": []
  }
 ],
 "metadata": {
  "kernelspec": {
   "display_name": "Python 3.7.4 64-bit ('anaconda3': virtualenv)",
   "metadata": {
    "interpreter": {
     "hash": "840474227f5bca67c65d9e4185cd86e75c4c246835bf5234de8c6fd0165a8f75"
    }
   },
   "name": "python3"
  },
  "language_info": {
   "codemirror_mode": {
    "name": "ipython",
    "version": 3
   },
   "file_extension": ".py",
   "mimetype": "text/x-python",
   "name": "python",
   "nbconvert_exporter": "python",
   "pygments_lexer": "ipython3",
   "version": "3.7.11"
  },
  "orig_nbformat": 2
 },
 "nbformat": 4,
 "nbformat_minor": 2
}
